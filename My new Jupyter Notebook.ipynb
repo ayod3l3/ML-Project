{
 "cells": [
  {
   "cell_type": "code",
   "execution_count": 1,
   "id": "4e18812c-cd67-4ba9-b854-c4fc848c7487",
   "metadata": {},
   "outputs": [
    {
     "name": "stdout",
     "output_type": "stream",
     "text": [
      "hello world\n"
     ]
    }
   ],
   "source": [
    "print(\"hello world\")"
   ]
  },
  {
   "cell_type": "markdown",
   "id": "b98ac5f8-081a-4d55-98ea-bb5a92163a0e",
   "metadata": {},
   "source": [
    "# My Project \n",
    "\n",
    "My test notebook "
   ]
  },
  {
   "cell_type": "code",
   "execution_count": null,
   "id": "59b40fc3-884c-4cd3-8507-4f95e138f41d",
   "metadata": {},
   "outputs": [],
   "source": []
  }
 ],
 "metadata": {
  "kernelspec": {
   "display_name": "Python 3 (ipykernel)",
   "language": "python",
   "name": "python3"
  },
  "language_info": {
   "codemirror_mode": {
    "name": "ipython",
    "version": 3
   },
   "file_extension": ".py",
   "mimetype": "text/x-python",
   "name": "python",
   "nbconvert_exporter": "python",
   "pygments_lexer": "ipython3",
   "version": "3.12.2"
  }
 },
 "nbformat": 4,
 "nbformat_minor": 5
}
